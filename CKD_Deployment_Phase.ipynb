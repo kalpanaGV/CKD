{
 "cells": [
  {
   "cell_type": "code",
   "execution_count": 1,
   "id": "5c680255",
   "metadata": {},
   "outputs": [],
   "source": [
    "import pickle"
   ]
  },
  {
   "cell_type": "code",
   "execution_count": 2,
   "id": "5d422899",
   "metadata": {},
   "outputs": [],
   "source": [
    "loaded_model=pickle.load(open(\"finalized_model_logistic.sav\",'rb'))"
   ]
  },
  {
   "cell_type": "code",
   "execution_count": 3,
   "id": "6fc7dc30",
   "metadata": {},
   "outputs": [
    {
     "name": "stdout",
     "output_type": "stream",
     "text": [
      "Age:34\n",
      "bp:45\n",
      "al:23\n",
      "su:45\n",
      "bgr:67\n",
      "bu:78\n",
      "sc:34\n",
      "sod:56\n",
      "pot:45\n",
      "hrmo:23\n",
      "pcv:45\n",
      "wc:56\n",
      "rc:45\n",
      "sg_p 0 or 1:1\n",
      "sg_c 0 or 1:1\n",
      "sg_d 0 or 1:1\n",
      "sg_e  0 or 1:1\n",
      "rbc_normal 0 or 1:1\n",
      "pc_normal  0 or 1:0\n",
      "pcc_present 0 or 1:0\n",
      "ba_present  0 or 1:0\n",
      "htn_yes 0 or 1:0\n",
      "dm_yes 0 or 1:0\n",
      "cad_yes 0 or 1:0\n",
      "appet_yes 0 or 1:0\n",
      "pe_yes 0 or 1:0\n",
      "ane_yes 0 or 1:0\n",
      "classification_yes 0 or 1:0\n"
     ]
    }
   ],
   "source": [
    "age_input=float(input(\"Age:\"))\n",
    "bp_input=float(input(\"bp:\"))\n",
    "al_input=float(input(\"al:\"))\n",
    "su_input=float(input(\"su:\"))\n",
    "bgr_input=float(input(\"bgr:\"))\n",
    "bu_input=float(input(\"bu:\"))\n",
    "sc_input=float(input(\"sc:\"))\n",
    "sod_input=float(input(\"sod:\"))\n",
    "pot_input=float(input(\"pot:\"))\n",
    "hrmo_input=float(input(\"hrmo:\"))\n",
    "pcv_input=float(input(\"pcv:\"))\n",
    "wc_input=float(input(\"wc:\"))\n",
    "rc_input=float(input(\"rc:\"))\n",
    "sg_b_input=int(input(\"sg_p 0 or 1:\"))\n",
    "sg_c_input=int(input(\"sg_c 0 or 1:\"))\n",
    "sg_d_input=int(input(\"sg_d 0 or 1:\"))\n",
    "sg_e_input=int(input(\"sg_e  0 or 1:\"))\n",
    "rbc_normal_input=int(input(\"rbc_normal 0 or 1:\"))\n",
    "pc_normal_input=int(input(\"pc_normal  0 or 1:\"))\n",
    "pcc_present_input=int(input(\"pcc_present 0 or 1:\"))\n",
    "ba_present_input=int(input(\"ba_present  0 or 1:\"))\n",
    "htn_yes_input=int(input(\"htn_yes 0 or 1:\"))\n",
    "dm_yes_input=int(input(\"dm_yes 0 or 1:\"))\n",
    "cad_yes_input=int(input(\"cad_yes 0 or 1:\"))\n",
    "appet_yes_input=int(input(\"appet_yes 0 or 1:\"))\n",
    "pe_yes_input=int(input(\"pe_yes 0 or 1:\"))\n",
    "ane_yes_input=int(input(\"ane_yes 0 or 1:\"))\n",
    "classification_yes_input=int(input(\"classification_yes 0 or 1:\"))"
   ]
  },
  {
   "cell_type": "code",
   "execution_count": 4,
   "id": "d28ba60c",
   "metadata": {},
   "outputs": [
    {
     "ename": "NameError",
     "evalue": "name 'grid' is not defined",
     "output_type": "error",
     "traceback": [
      "\u001b[1;31m---------------------------------------------------------------------------\u001b[0m",
      "\u001b[1;31mNameError\u001b[0m                                 Traceback (most recent call last)",
      "Cell \u001b[1;32mIn[4], line 1\u001b[0m\n\u001b[1;32m----> 1\u001b[0m Future_Prediction\u001b[38;5;241m=\u001b[39mgrid\u001b[38;5;241m.\u001b[39mpredict([[age_input,bp_input,al_input,su_input,bgr_input,bu_input,sc_input,sod_input,pot_input,hrmo_input,pcv_input,wc_input,rc_input,sg_b_input,sg_c_input,sg_d_input,sg_e_input,rbc_normal_input,pc_normal_input,pcc_present_input,ba_present_input,htn_yes_input,dm_yes_input,cad_yes_input,appet_yes_input,pe_yes_input,ane_yes_input]])\n\u001b[0;32m      2\u001b[0m \u001b[38;5;28mprint\u001b[39m(\u001b[38;5;124m\"\u001b[39m\u001b[38;5;124mFuture_Prediction=\u001b[39m\u001b[38;5;132;01m{}\u001b[39;00m\u001b[38;5;124m\"\u001b[39m\u001b[38;5;241m.\u001b[39mformat(Future_Prediction))\n",
      "\u001b[1;31mNameError\u001b[0m: name 'grid' is not defined"
     ]
    }
   ],
   "source": [
    "Future_Prediction=grid.predict([[age_input,bp_input,al_input,su_input,bgr_input,bu_input,sc_input,sod_input,pot_input,hrmo_input,pcv_input,wc_input,rc_input,sg_b_input,sg_c_input,sg_d_input,sg_e_input,rbc_normal_input,pc_normal_input,pcc_present_input,ba_present_input,htn_yes_input,dm_yes_input,cad_yes_input,appet_yes_input,pe_yes_input,ane_yes_input]])\n",
    "print(\"Future_Prediction={}\".format(Future_Prediction))"
   ]
  }
 ],
 "metadata": {
  "kernelspec": {
   "display_name": "Python 3 (ipykernel)",
   "language": "python",
   "name": "python3"
  },
  "language_info": {
   "codemirror_mode": {
    "name": "ipython",
    "version": 3
   },
   "file_extension": ".py",
   "mimetype": "text/x-python",
   "name": "python",
   "nbconvert_exporter": "python",
   "pygments_lexer": "ipython3",
   "version": "3.11.5"
  }
 },
 "nbformat": 4,
 "nbformat_minor": 5
}
